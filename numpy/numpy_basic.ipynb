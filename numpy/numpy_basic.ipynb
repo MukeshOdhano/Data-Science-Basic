{
 "cells": [
  {
   "cell_type": "markdown",
   "metadata": {},
   "source": [
    "--> import \"Numpy\" \\\n",
    "--> Create Vector\n"
   ]
  },
  {
   "cell_type": "code",
   "execution_count": 28,
   "metadata": {},
   "outputs": [],
   "source": [
    "import numpy as np\n",
    "# ------------------1st-row --------------- 2nd-row ----------\n",
    "matrix = np.array([[1, 3, 5, 7, 9], [2, 4, 6, 8, 10]])"
   ]
  },
  {
   "cell_type": "markdown",
   "metadata": {},
   "source": [
    "Accessing elements\n"
   ]
  },
  {
   "cell_type": "code",
   "execution_count": 29,
   "metadata": {},
   "outputs": [
    {
     "name": "stdout",
     "output_type": "stream",
     "text": [
      "[[1 3 5 7 9]]\n",
      "10\n",
      "[ 9 10]\n"
     ]
    }
   ],
   "source": [
    "# accessing element\n",
    "print(matrix[:1])  # 1st row\n",
    "print(matrix[1, 4])  # 2nd row 5th element\n",
    "print(matrix[0:2, 4])  # 5th element of each row"
   ]
  },
  {
   "cell_type": "markdown",
   "metadata": {},
   "source": [
    "accessing elements from last\n"
   ]
  },
  {
   "cell_type": "code",
   "execution_count": 30,
   "metadata": {},
   "outputs": [
    {
     "name": "stdout",
     "output_type": "stream",
     "text": [
      "[ 2  4  6  8 10]\n",
      "[5 6]\n"
     ]
    }
   ],
   "source": [
    "print(matrix[-1])  # last element or row\n",
    "print(matrix[0:, -3])  # last 3rd element"
   ]
  },
  {
   "cell_type": "markdown",
   "metadata": {},
   "source": [
    "Matrix\n"
   ]
  },
  {
   "cell_type": "code",
   "execution_count": 31,
   "metadata": {},
   "outputs": [
    {
     "name": "stdout",
     "output_type": "stream",
     "text": [
      "Number of rows and column: (2, 5)\n",
      "Number of elements: 10\n",
      "Number of dimension of matrix: 2\n"
     ]
    }
   ],
   "source": [
    "# number of rows and columns\n",
    "print(f\"Number of rows and column: {matrix.shape}\") \n",
    "\n",
    "# number of elements\n",
    "print(f\"Number of elements: {matrix.size}\")\n",
    "\n",
    "# dimension of matrix\n",
    "print(f\"Number of dimension of matrix: {matrix.ndim}\")"
   ]
  },
  {
   "cell_type": "markdown",
   "metadata": {},
   "source": [
    "MIN & MAX"
   ]
  },
  {
   "cell_type": "code",
   "execution_count": 32,
   "metadata": {},
   "outputs": [
    {
     "name": "stdout",
     "output_type": "stream",
     "text": [
      "10\n",
      "1\n"
     ]
    }
   ],
   "source": [
    "# Max number in matrix\n",
    "print(np.max(matrix)) \n",
    "\n",
    "# Min number in matrix\n",
    "print(np.min(matrix))"
   ]
  },
  {
   "cell_type": "markdown",
   "metadata": {},
   "source": [
    "Calculate \"Average\""
   ]
  },
  {
   "cell_type": "code",
   "execution_count": 33,
   "metadata": {},
   "outputs": [
    {
     "name": "stdout",
     "output_type": "stream",
     "text": [
      "[1 3 5 7 9] =  5.0\n",
      "[ 2  4  6  8 10] = 6.0\n",
      "5.5\n"
     ]
    }
   ],
   "source": [
    "# average of first row\n",
    "print(f\"{matrix[0]} =  {np.mean(matrix[0])}\") \n",
    "\n",
    "# average of last row\n",
    "print(f\"{matrix[1]} = {np.mean(matrix[1])}\") \n",
    "\n",
    "# average of whole matrix\n",
    "print(f\"{np.mean(matrix)}\")\n",
    "\n",
    "\n"
   ]
  },
  {
   "cell_type": "markdown",
   "metadata": {},
   "source": [
    "Reshape"
   ]
  },
  {
   "cell_type": "code",
   "execution_count": 34,
   "metadata": {},
   "outputs": [
    {
     "name": "stdout",
     "output_type": "stream",
     "text": [
      "[[ 1  3]\n",
      " [ 5  7]\n",
      " [ 9  2]\n",
      " [ 4  6]\n",
      " [ 8 10]]\n",
      "[ 1  3  5  7  9  2  4  6  8 10]\n",
      "[ 1  3  5  7  9  2  4  6  8 10]\n",
      "[ 1  3  5  7  9  2  4  6  8 10]\n"
     ]
    }
   ],
   "source": [
    "print(matrix.reshape(5, 2)) # (row, col)\n",
    "print(matrix.reshape(10)) # in 1 row -- 1_dimensional\n",
    "print(matrix.reshape(-1)) # in 1 row -- 1_dimensional\n",
    "print(matrix.flatten()) # in 1 row -- 1_dimensional"
   ]
  },
  {
   "cell_type": "markdown",
   "metadata": {},
   "source": [
    "TRANSPOSE"
   ]
  },
  {
   "cell_type": "code",
   "execution_count": 35,
   "metadata": {},
   "outputs": [
    {
     "name": "stdout",
     "output_type": "stream",
     "text": [
      "[[ 1  2]\n",
      " [ 3  4]\n",
      " [ 5  6]\n",
      " [ 7  8]\n",
      " [ 9 10]]\n"
     ]
    }
   ],
   "source": [
    "print(matrix.T) "
   ]
  },
  {
   "cell_type": "markdown",
   "metadata": {},
   "source": [
    "DIGONAL"
   ]
  },
  {
   "cell_type": "code",
   "execution_count": 36,
   "metadata": {},
   "outputs": [
    {
     "name": "stdout",
     "output_type": "stream",
     "text": [
      "[1 4]\n"
     ]
    }
   ],
   "source": [
    "print(matrix.diagonal())"
   ]
  },
  {
   "cell_type": "markdown",
   "metadata": {},
   "source": [
    "DOT PRODUCT"
   ]
  },
  {
   "cell_type": "code",
   "execution_count": 37,
   "metadata": {},
   "outputs": [
    {
     "name": "stdout",
     "output_type": "stream",
     "text": [
      "32\n"
     ]
    }
   ],
   "source": [
    "vector_1 = np.array([1,2,3])\n",
    "vector_2 = np.array([4,5,6])\n",
    "\n",
    "print(np.dot(vector_1, vector_2))"
   ]
  },
  {
   "cell_type": "markdown",
   "metadata": {},
   "source": [
    "ADDING, SUBTRACTIN AND MULTIPLYING MATRICES"
   ]
  },
  {
   "cell_type": "code",
   "execution_count": 38,
   "metadata": {},
   "outputs": [
    {
     "name": "stdout",
     "output_type": "stream",
     "text": [
      "add: [[ 3  6  9]\n",
      " [12 15 12]\n",
      " [11 10  9]]\n",
      "subtract: [[-1 -2 -3]\n",
      " [-4 -5  0]\n",
      " [ 3  6  9]]\n",
      "multipl: - element wise \n",
      "[[ 2  8 18]\n",
      " [32 50 36]\n",
      " [28 16  0]]\n",
      "mat_mul(row column wise): \n",
      "[[ 30  30  18]\n",
      " [ 72  78  54]\n",
      " [114 126  90]]\n"
     ]
    }
   ],
   "source": [
    "matrix_1 = np.array([[1, 2, 3], [4, 5, 6], [7, 8, 9]])\n",
    "matrix_2 = np.array([[2, 4, 6], [8, 10, 6], [4, 2, 0]])\n",
    "\n",
    "print(f\"add: {np.add(matrix_1, matrix_2)}\")\n",
    "print(f\"subtract: {np.subtract(matrix_1, matrix_2)}\")\n",
    "print(f\"multipl: - element wise \\n{matrix_1 * matrix_2}\")\n",
    "print(f\"mat_mul(row column wise): \\n{np.matmul(matrix_1, matrix_2)}\")"
   ]
  },
  {
   "cell_type": "markdown",
   "metadata": {},
   "source": [
    "Zeros and ONES\n",
    "\n"
   ]
  },
  {
   "cell_type": "code",
   "execution_count": 39,
   "metadata": {},
   "outputs": [
    {
     "name": "stdout",
     "output_type": "stream",
     "text": [
      "Zeros: \n",
      "[[0. 0. 0. 0.]\n",
      " [0. 0. 0. 0.]\n",
      " [0. 0. 0. 0.]\n",
      " [0. 0. 0. 0.]]\n",
      "\n",
      "Ones: \n",
      "[[1. 1. 1. 1.]\n",
      " [1. 1. 1. 1.]\n",
      " [1. 1. 1. 1.]\n",
      " [1. 1. 1. 1.]]\n"
     ]
    }
   ],
   "source": [
    "print(f\"Zeros: \\n{np.zeros([4, 4])}\")\n",
    "print(f\"\\nOnes: \\n{np.ones([4, 4])}\")"
   ]
  },
  {
   "cell_type": "markdown",
   "metadata": {},
   "source": [
    "Random Values"
   ]
  },
  {
   "cell_type": "code",
   "execution_count": 40,
   "metadata": {},
   "outputs": [
    {
     "name": "stdout",
     "output_type": "stream",
     "text": [
      "[10  8  0]\n",
      "[-0.12132377  4.70952358  1.72185296 -0.2856695 ]\n"
     ]
    }
   ],
   "source": [
    "# genrate 3 random numbers between 0 and 10\n",
    "print(np.random.randint(0, 11, 3))\n",
    "\n",
    "# genrate \n",
    "print(np.random.normal(1.0, 2.0, 4))\n"
   ]
  }
 ],
 "metadata": {
  "kernelspec": {
   "display_name": "Python 3",
   "language": "python",
   "name": "python3"
  },
  "language_info": {
   "codemirror_mode": {
    "name": "ipython",
    "version": 3
   },
   "file_extension": ".py",
   "mimetype": "text/x-python",
   "name": "python",
   "nbconvert_exporter": "python",
   "pygments_lexer": "ipython3",
   "version": "3.11.4"
  },
  "orig_nbformat": 4
 },
 "nbformat": 4,
 "nbformat_minor": 2
}
